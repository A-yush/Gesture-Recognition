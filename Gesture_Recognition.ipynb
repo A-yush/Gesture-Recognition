{
 "cells": [
  {
   "cell_type": "markdown",
   "metadata": {},
   "source": [
    "# Gesture Recognition\n",
    "In this group project, you are going to build a 3D Conv model that will be able to predict the 5 gestures correctly. The gestures are:\n",
    "\n",
    "1. Thumbs up:  Increase the volume\n",
    "2. Thumbs down: Decrease the volume\n",
    "3. Left swipe: 'Jump' backwards 10 seconds\n",
    "4. Right swipe: 'Jump' forward 10 seconds  \n",
    "5. Stop: Pause the movie\n",
    "\n"
   ]
  },
  {
   "cell_type": "code",
   "execution_count": 2,
   "metadata": {},
   "outputs": [],
   "source": [
    "# Importing libraries\n",
    "import numpy as np\n",
    "import os\n",
    "from imageio import imread\n",
    "from skimage.transform import resize\n",
    "import datetime\n",
    "import os\n",
    "import matplotlib.pyplot as plt\n",
    "import imageio\n",
    "from keras.callbacks import ReduceLROnPlateau"
   ]
  },
  {
   "cell_type": "markdown",
   "metadata": {},
   "source": [
    "We set the random seed so that the results don't vary drastically."
   ]
  },
  {
   "cell_type": "code",
   "execution_count": 3,
   "metadata": {},
   "outputs": [],
   "source": [
    "np.random.seed(30)\n",
    "import random as rn\n",
    "rn.seed(30)\n",
    "from tensorflow import keras\n",
    "import tensorflow as tf\n",
    "tf.random.set_seed(30)"
   ]
  },
  {
   "cell_type": "markdown",
   "metadata": {},
   "source": [
    "In this block, you read the folder names for training and validation. You also set the `batch_size` here. Note that you set the batch size in such a way that you are able to use the GPU in full capacity. You keep increasing the batch size until the machine throws an error."
   ]
  },
  {
   "cell_type": "markdown",
   "metadata": {},
   "source": [
    "**data path: /home/datasets/Project_data**"
   ]
  },
  {
   "cell_type": "code",
   "execution_count": 4,
   "metadata": {},
   "outputs": [],
   "source": [
    "# getting train and val_doc location and randomizing to get all classes data\n",
    "train_doc = np.random.permutation(open('/home/datasets/Project_data/train.csv').readlines())\n",
    "val_doc = np.random.permutation(open('/home/datasets/Project_data/val.csv').readlines())"
   ]
  },
  {
   "cell_type": "markdown",
   "metadata": {},
   "source": [
    "## Generator\n",
    "This is one of the most important part of the code. The overall structure of the generator has been given. In the generator, you are going to preprocess the images as you have images of 2 different dimensions as well as create a batch of video frames. You have to experiment with `img_idx`, `y`,`z` and normalization such that you get high accuracy."
   ]
  },
  {
   "cell_type": "code",
   "execution_count": 5,
   "metadata": {},
   "outputs": [],
   "source": [
    "def generator(source_path, folder_list, batch_size, num_images,image_height,image_width):\n",
    "    print( 'Source path = ', source_path, '; batch size =', batch_size)\n",
    "    img_idx = np.round(np.linspace(0,29,num_images)).astype(int) #create a list of image numbers you want to use for a particular video\n",
    "    \n",
    "    \n",
    "    while True:\n",
    "        t = np.random.permutation(folder_list)\n",
    "        \n",
    "        num_batches = len(t)//batch_size\n",
    "            \n",
    "        for batch in range(num_batches): # we iterate over the number of batches\n",
    "            batch_data = np.zeros((batch_size, num_images,image_height,image_width,3)) # x is the number of images you use for each video, (y,z) is the final size of the input images and 3 is the number of channels RGB\n",
    "            batch_labels = np.zeros((batch_size,5)) # batch_labels is the one hot representation of the output\n",
    "            \n",
    "            for folder in range(batch_size): # iterate over the batch_size\n",
    "                imgs = os.listdir(source_path+'/'+ t[folder + (batch*batch_size)].split(';')[0]) # read all the images in the folder\n",
    "                \n",
    "                for idx,item in enumerate(img_idx): #  Iterate over the frames/images of a folder to read them in\n",
    "                    image = imread(source_path+'/'+ t[folder + (batch*batch_size)].strip().split(';')[0]+'/'+imgs[item]).astype(np.float32)\n",
    "                    \n",
    "                    #crop the images and resize them. Note that the images are of 2 different shape \n",
    "                    #and the conv3D will throw error if the inputs in a batch have different shapes\n",
    "                    \n",
    "                    image = resize(image, (image_height, image_width), anti_aliasing=True)\n",
    "                    \n",
    "                    #normalise and feed in the image. Normalization method: Percentile method\n",
    "                    batch_data[folder,idx,:,:,0] = (image[:,:,0] - np.percentile(image[:,:,0],5))/ (np.percentile(image[:,:,0],95) - np.percentile(image[:,:,0],5)) \n",
    "                    batch_data[folder,idx,:,:,1] = (image[:,:,1] - np.percentile(image[:,:,1],5))/ (np.percentile(image[:,:,1],95) - np.percentile(image[:,:,1],5))\n",
    "                    batch_data[folder,idx,:,:,2] = (image[:,:,2] - np.percentile(image[:,:,2],5))/ (np.percentile(image[:,:,2],95) - np.percentile(image[:,:,2],5))\n",
    "                    \n",
    "                batch_labels[folder, int(t[folder + (batch*batch_size)].strip().split(';')[2])] = 1\n",
    "            yield batch_data, batch_labels #you yield the batch_data and the batch_labels, remember what does yield do\n",
    "\n",
    "        \n",
    "        # writing the code for the remaining data points which are left after full batches\n",
    "        if (len(t)%batch_size):\n",
    "            remaining_videos = len(t)%batch_size\n",
    "            batch_data   = np.zeros((remaining_videos,num_images,image_height,image_width,3)) # 3 is the number of channels RGB\n",
    "            batch_labels = np.zeros((remaining_videos,5)) # batch_labels is the one hot representation of the output           \n",
    "\n",
    "            for folder in range(remaining_videos): # iterate over the batch_size\n",
    "                imgs = os.listdir(source_path+'/'+ t[folder + (num_batches*batch_size)].split(';')[0]) # read all the images in the folder\n",
    "                \n",
    "                for idx,item in enumerate(img_idx): #  Iterate iver the frames/images of a folder to read them in\n",
    "                    image = imageio.imread(source_path+'/'+ t[folder + (num_batches*batch_size)].strip().split(';')[0]+'/'+imgs[item]).astype(np.float32)\n",
    "                \n",
    "                    #crop the images and resize them. Note that the images are of 2 different shape \n",
    "                    #and the conv3D will throw error if the inputs in a batch have different shapes\n",
    "                    \n",
    "                    # cropping rectangle images to square images\n",
    "                    if image.shape[1] > image.shape[0]:\n",
    "                        diff_px = image.shape[1] - image.shape[0]\n",
    "                        crop_start = diff_px//2\n",
    "                        crop_end = crop_start + image.shape[0]\n",
    "                        image = image[:, crop_start:crop_end]\n",
    "                    elif image.shape[0] > image.shape[1]:\n",
    "                        diff_px = image.shape[0] - image.shape[1]\n",
    "                        crop_start = diff_px//2\n",
    "                        crop_end = crop_start + image.shape[1]\n",
    "                        image = image[:, crop_start:crop_end]\n",
    "                    \n",
    "                    # resizing image\n",
    "                    image = resize(image, (image_height, image_width), anti_aliasing=True)   \n",
    "                                      \n",
    "                    #normalise and feed in the image\n",
    "                    batch_data[folder,idx,:,:,0] = (image[:,:,0] - np.percentile(image[:,:,0],5))/ (np.percentile(image[:,:,0],95) - np.percentile(image[:,:,0],5)) \n",
    "                    batch_data[folder,idx,:,:,1] = (image[:,:,1] - np.percentile(image[:,:,1],5))/ (np.percentile(image[:,:,1],95) - np.percentile(image[:,:,1],5))\n",
    "                    batch_data[folder,idx,:,:,2] = (image[:,:,2] - np.percentile(image[:,:,2],5))/ (np.percentile(image[:,:,2],95) - np.percentile(image[:,:,2],5))\n",
    "                    \n",
    "                batch_labels[folder, int(t[folder + (num_batches*batch_size)].strip().split(';')[2])] = 1\n",
    "                \n",
    "            yield batch_data, batch_labels #you yield the batch_data and the batch_labels, remember what does yield do"
   ]
  },
  {
   "cell_type": "markdown",
   "metadata": {},
   "source": [
    "Note here that a video is represented above in the generator as (number of images, height, width, number of channels). Take this into consideration while creating the model architecture."
   ]
  },
  {
   "cell_type": "code",
   "execution_count": 6,
   "metadata": {},
   "outputs": [],
   "source": [
    "# experimentation hyper parameters\n",
    "batch_size = 32 #experiment with the batch size\n",
    "num_images = 20 # number of frames/images in a video for training.\n",
    "image_height = 120 #image height which will be used during training\n",
    "image_width = 120 #image width which will be used during training\n",
    "num_epochs = 40 # choose the number of epochs"
   ]
  },
  {
   "cell_type": "code",
   "execution_count": 7,
   "metadata": {},
   "outputs": [
    {
     "name": "stdout",
     "output_type": "stream",
     "text": [
      "# training sequences = 663\n",
      "# validation sequences = 100\n",
      "# epochs = 40\n"
     ]
    }
   ],
   "source": [
    "# Getting number of training and validation sequences along with epoch length\n",
    "curr_dt_time = datetime.datetime.now()\n",
    "train_path = '/home/datasets/Project_data/train'\n",
    "val_path = '/home/datasets/Project_data/val'\n",
    "num_train_sequences = len(train_doc)\n",
    "print('# training sequences =', num_train_sequences)\n",
    "num_val_sequences = len(val_doc)\n",
    "print('# validation sequences =', num_val_sequences)\n",
    "print ('# epochs =', num_epochs)"
   ]
  },
  {
   "cell_type": "markdown",
   "metadata": {},
   "source": [
    "## Model\n",
    "Here you make the model using different functionalities that Keras provides. Remember to use `Conv3D` and `MaxPooling3D` and not `Conv2D` and `Maxpooling2D` for a 3D convolution model. You would want to use `TimeDistributed` while building a Conv2D + RNN model. Also remember that the last layer is the softmax. Design the network in such a way that the model is able to give good accuracy on the least number of parameters so that it can fit in the memory of the webcam."
   ]
  },
  {
   "cell_type": "code",
   "execution_count": 52,
   "metadata": {},
   "outputs": [],
   "source": [
    "# importing libraries\n",
    "from tensorflow.keras.models import Sequential\n",
    "from tensorflow.keras.layers import Dense, GRU, Dropout, Flatten, BatchNormalization, Activation, Conv3D, MaxPooling3D\n",
    "from tensorflow.keras.layers import GlobalAveragePooling3D,TimeDistributed,Conv2D,GRU,MaxPooling2D,GlobalAveragePooling2D,ConvLSTM2D\n",
    "from tensorflow.keras.callbacks import ModelCheckpoint, ReduceLROnPlateau\n",
    "from tensorflow.keras import optimizers"
   ]
  },
  {
   "cell_type": "markdown",
   "metadata": {},
   "source": [
    "Now that you have written the model, the next step is to `compile` the model. When you print the `summary` of the model, you'll see the total number of parameters you have to train."
   ]
  },
  {
   "cell_type": "markdown",
   "metadata": {},
   "source": [
    "### Experiment 1 and 2\n",
    "Experiment 1: Running a sequential Conv 3D model with 2 Conv3D layers followed by a dense layer to get output. No of epochs=10\n",
    "Experiment 2: In experiment 2, no of epochs 20"
   ]
  },
  {
   "cell_type": "code",
   "execution_count": 53,
   "metadata": {},
   "outputs": [],
   "source": [
    "# Experiment 1 and 2\n",
    "# Running a sequential Conv 3D model with 2 Conv3D layers followed by a dense layer to get output\n",
    "# experiment number: no of epochs:10 and in experiment 2: no of epochs 20\n",
    "\n",
    "# model = Sequential()\n",
    "# model.add(Conv3D(32, kernel_size=3, activation='relu', input_shape=(num_images, image_height, image_width, 3)))\n",
    "# model.add(MaxPooling3D(pool_size=2))\n",
    "\n",
    "# model.add(Conv3D(64, kernel_size=3, activation='relu'))\n",
    "# model.add(MaxPooling3D(pool_size=2))\n",
    "\n",
    "# model.add(Flatten())\n",
    "# model.add(Dense(256, activation='relu'))\n",
    "# model.add(Dense(5, activation='softmax'))"
   ]
  },
  {
   "cell_type": "markdown",
   "metadata": {},
   "source": [
    "### Experiment 3\n",
    "Trying to add four Conv3D layers with 128 kernels followed by max pooling after each layer. Adding a drop-out in last layer"
   ]
  },
  {
   "cell_type": "code",
   "execution_count": 54,
   "metadata": {},
   "outputs": [],
   "source": [
    "# Experiment 3: Trying to add four Conv3D layers followed by max pooling after each layer. Also increasing the number of filters and adding a drop-out\n",
    "# in last layer\n",
    "\n",
    "# model = Sequential()\n",
    "\n",
    "# model.add(Conv3D(32, (3, 3, 3), padding='same', input_shape=(num_images, image_height, image_width, 3),activation='relu'))\n",
    "# model.add(MaxPooling3D(pool_size=(2, 2, 2)))\n",
    "\n",
    "# model.add(Conv3D(64, (3, 3, 3), padding='same',activation='relu'))\n",
    "# model.add(MaxPooling3D(pool_size=(2, 2, 2)))\n",
    "    \n",
    "# model.add(Conv3D(128, (3, 3, 3), padding='same',activation='relu'))\n",
    "# model.add(MaxPooling3D(pool_size=(2, 2, 2))) \n",
    "    \n",
    "# model.add(Flatten())\n",
    "# model.add(Dense(256,activation='relu'))\n",
    "# model.add(Dropout(0.25))\n",
    "\n",
    "# model.add(Dense(5,activation='softmax'))"
   ]
  },
  {
   "cell_type": "markdown",
   "metadata": {},
   "source": [
    "### Experiment 4\n",
    "Adding dropout after each layer and reducing batch size to 32"
   ]
  },
  {
   "cell_type": "code",
   "execution_count": 55,
   "metadata": {},
   "outputs": [],
   "source": [
    "# Experiment 4. Adding dropout after each layer and reducing batch size to 32\n",
    "\n",
    "# model = Sequential()\n",
    "\n",
    "# model.add(Conv3D(32, (3, 3, 3), padding='same', input_shape=(num_images, image_height, image_width, 3),activation='relu'))\n",
    "# model.add(MaxPooling3D(pool_size=(2, 2, 2)))\n",
    "# model.add(Dropout(0.3))\n",
    "\n",
    "# model.add(Conv3D(64, (3, 3, 3), padding='same',activation='relu'))\n",
    "# model.add(MaxPooling3D(pool_size=(2, 2, 2)))\n",
    "# model.add(Dropout(0.3))\n",
    "    \n",
    "# model.add(Conv3D(128, (3, 3, 3), padding='same',activation='relu'))\n",
    "# model.add(MaxPooling3D(pool_size=(2, 2, 2))) \n",
    "# model.add(Dropout(0.3))\n",
    "    \n",
    "# model.add(Flatten())\n",
    "# model.add(Dense(256,activation='relu'))\n",
    "# model.add(Dropout(0.25))\n",
    "\n",
    "# model.add(Dense(5,activation='softmax'))"
   ]
  },
  {
   "cell_type": "markdown",
   "metadata": {},
   "source": [
    "### Experiment 5\n",
    "Adding dropout after each layer and reducing batch size to 32. Adding batch normalization after each layer as well"
   ]
  },
  {
   "cell_type": "code",
   "execution_count": 56,
   "metadata": {},
   "outputs": [],
   "source": [
    "# Experiment 5. Adding dropout after each layer and reducing batch size to 32\n",
    "# Adding batch normalization after each layer as well\n",
    "\n",
    "# model = Sequential()\n",
    "\n",
    "# model.add(Conv3D(32, (3, 3, 3), padding='same', input_shape=(num_images, image_height, image_width, 3),activation='relu'))\n",
    "# model.add(MaxPooling3D(pool_size=(2, 2, 2)))\n",
    "# model.add(BatchNormalization())\n",
    "# model.add(Dropout(0.3))\n",
    "\n",
    "# model.add(Conv3D(64, (3, 3, 3), padding='same',activation='relu'))\n",
    "# model.add(MaxPooling3D(pool_size=(2, 2, 2)))\n",
    "# model.add(BatchNormalization())\n",
    "# model.add(Dropout(0.3))\n",
    "    \n",
    "# model.add(Conv3D(128, (3, 3, 3), padding='same',activation='relu'))\n",
    "# model.add(MaxPooling3D(pool_size=(2, 2, 2))) \n",
    "# model.add(BatchNormalization())\n",
    "# model.add(Dropout(0.3))\n",
    "    \n",
    "# model.add(Flatten())\n",
    "# model.add(Dense(256,activation='relu'))\n",
    "# model.add(Dropout(0.25))\n",
    "\n",
    "# model.add(Dense(5,activation='softmax'))"
   ]
  },
  {
   "cell_type": "markdown",
   "metadata": {},
   "source": [
    "### Experiment 6 and 7\n",
    "\n",
    "#### Global Average Pooling:\n",
    "Global Average Pooling is a pooling operation designed to replace fully connected layers in classical CNNs. The idea is to generate one feature map for each corresponding category of the classification task in the last mlpconv layer. Instead of adding fully connected layers on top of the feature maps, we take the average of each feature map, and the resulting vector is fed directly into the softmax layer. \n",
    "\n",
    "Will try using Global Average Pooling instead of flatten layer and observe the behavior.\n",
    "\n",
    "Experiment 7 with number of epochs = 30"
   ]
  },
  {
   "cell_type": "code",
   "execution_count": 57,
   "metadata": {},
   "outputs": [],
   "source": [
    "# Experiment 6 and 7. Adding dropout after each layer and reducing batch size to 32\n",
    "# Using global average pooling instead of flatten layer\n",
    "\n",
    "# model = Sequential()\n",
    "\n",
    "# model.add(Conv3D(32, (3, 3, 3), padding='same', input_shape=(num_images, image_height, image_width, 3),activation='relu'))\n",
    "# model.add(MaxPooling3D(pool_size=(2, 2, 2)))\n",
    "# model.add(Dropout(0.3))\n",
    "\n",
    "# model.add(Conv3D(64, (3, 3, 3), padding='same',activation='relu'))\n",
    "# model.add(MaxPooling3D(pool_size=(2, 2, 2)))\n",
    "# model.add(Dropout(0.3))\n",
    "    \n",
    "# model.add(Conv3D(128, (3, 3, 3), padding='same',activation='relu'))\n",
    "# model.add(MaxPooling3D(pool_size=(2, 2, 2))) \n",
    "# model.add(Dropout(0.3))\n",
    "    \n",
    "# model.add(GlobalAveragePooling3D())\n",
    "# model.add(Dense(256,activation='relu'))\n",
    "# model.add(Dropout(0.25))\n",
    "\n",
    "# model.add(Dense(5,activation='softmax'))"
   ]
  },
  {
   "cell_type": "markdown",
   "metadata": {},
   "source": [
    "### Experiment 8\n",
    "\n",
    "Using Conv2D + GRU\n"
   ]
  },
  {
   "cell_type": "code",
   "execution_count": 58,
   "metadata": {},
   "outputs": [],
   "source": [
    "# Experiment 8 using TimeDistributed Conv2D + GRU\n",
    "\n",
    "# model = Sequential()\n",
    "\n",
    "# model.add(TimeDistributed(Conv2D(32, (3,3),activation='relu'),input_shape=(num_images, image_height, image_width, 3)))\n",
    "# model.add(TimeDistributed(MaxPooling2D((2,2))))\n",
    "# model.add(BatchNormalization())\n",
    "# model.add(Dropout(0.2))\n",
    "\n",
    "# model.add(TimeDistributed(Conv2D(64, (3,3), padding='same',activation='relu')))\n",
    "# model.add(TimeDistributed(MaxPooling2D((2,2))))\n",
    "# model.add(BatchNormalization())\n",
    "# model.add(Dropout(0.2))\n",
    "\n",
    "# model.add(TimeDistributed(GlobalAveragePooling2D()))\n",
    "# model.add(TimeDistributed(Dense(64, activation='relu')))\n",
    "# model.add(BatchNormalization())\n",
    "# model.add(Dropout(0.2))\n",
    "\n",
    "# model.add(GRU(128))\n",
    "# model.add(BatchNormalization())\n",
    "\n",
    "# model.add(Dense(5, activation='softmax'))"
   ]
  },
  {
   "cell_type": "markdown",
   "metadata": {},
   "source": [
    "### Experiment 9 and 10\n",
    "Using Conv2D + Dense Layer + GlobalAveragePooling3D"
   ]
  },
  {
   "cell_type": "code",
   "execution_count": 59,
   "metadata": {},
   "outputs": [],
   "source": [
    "# Experiment 9 and 10 using TimeDistributed Conv2D + Dense + GlobalAveragePooling3D without batchNormalization\n",
    "# model = Sequential()\n",
    "\n",
    "# model.add(TimeDistributed(Conv2D(32, (3,3),activation='relu'),input_shape=(num_images, image_height, image_width, 3)))\n",
    "# model.add(TimeDistributed(MaxPooling2D((2,2))))\n",
    "# model.add(Dropout(0.2))\n",
    "\n",
    "# model.add(TimeDistributed(Conv2D(64, (3,3), padding='same',activation='relu')))\n",
    "# model.add(TimeDistributed(MaxPooling2D((2,2))))\n",
    "# model.add(Dropout(0.2))\n",
    "\n",
    "# model.add(TimeDistributed(Conv2D(128, (3,3), padding='same',activation='relu')))\n",
    "# model.add(TimeDistributed(MaxPooling2D((2,2))))\n",
    "# model.add(Dropout(0.2))\n",
    "\n",
    "# model.add(GlobalAveragePooling3D())\n",
    "# model.add(Dense(256, activation='relu'))\n",
    "# model.add(Dense(5, activation='softmax'))"
   ]
  },
  {
   "cell_type": "markdown",
   "metadata": {},
   "source": [
    "### Experiment 11\n",
    "Conv2D + Conv2DLSTM + GlobalAveragePooling2D"
   ]
  },
  {
   "cell_type": "code",
   "execution_count": 60,
   "metadata": {},
   "outputs": [],
   "source": [
    "# Experiment 11 using Timedistributed Conv2D and ConvLSTM2D and GlobalAveragePooling2D\n",
    "# model = Sequential()\n",
    "# model.add(TimeDistributed(Conv2D(8, (3,3), activation='relu'), input_shape=(num_images, image_height, image_width, 3)))\n",
    "# #model.add(BatchNormalization())\n",
    "# model.add(TimeDistributed(Conv2D(16, (3,3), activation='relu')))\n",
    "# #model.add(BatchNormalization())\n",
    "# model.add(ConvLSTM2D(8, kernel_size = 3, return_sequences=False))\n",
    "# #model.add(BatchNormalization())\n",
    "# model.add(TimeDistributed(Dense(64, activation='relu')))\n",
    "# #model.add(BatchNormalization())\n",
    "# model.add(GlobalAveragePooling2D())\n",
    "# model.add(Dense(64, activation='relu'))\n",
    "# model.add(Dense(5, activation='softmax'))"
   ]
  },
  {
   "cell_type": "markdown",
   "metadata": {},
   "source": [
    "### Experiment 12\n",
    "Conv2D + Conv2DLSTM + Flatten layer"
   ]
  },
  {
   "cell_type": "code",
   "execution_count": 61,
   "metadata": {},
   "outputs": [],
   "source": [
    "# Experiment 12 using Timedistributed Conv2D and ConvLSTM2D and GlobalAveragePooling2D\n",
    "# model = Sequential()\n",
    "# model.add(TimeDistributed(Conv2D(32, (3,3), activation='relu'), input_shape=(num_images, image_height, image_width, 3)))\n",
    "# model.add(TimeDistributed(MaxPooling2D((2,2))))\n",
    "\n",
    "# model.add(TimeDistributed(Conv2D(64, (3,3), activation='relu')))\n",
    "# model.add(TimeDistributed(MaxPooling2D((2,2))))\n",
    "\n",
    "# model.add(TimeDistributed(Conv2D(128, (3,3), activation='relu')))\n",
    "# model.add(TimeDistributed(MaxPooling2D((2,2))))\n",
    "\n",
    "# model.add(ConvLSTM2D(128, kernel_size = 3, return_sequences=False))\n",
    "\n",
    "# model.add(TimeDistributed(Dense(64, activation='relu')))\n",
    "\n",
    "# model.add(Flatten())\n",
    "# model.add(Dense(64, activation='relu'))\n",
    "# model.add(Dense(5, activation='softmax'))"
   ]
  },
  {
   "cell_type": "markdown",
   "metadata": {},
   "source": [
    "### Final Model\n",
    "using experiment 7 as Final model as it gave best results and training it with batch size = 32, epochs = 40 and num of training images in a sequence = 20. Number of parameters are 313,605"
   ]
  },
  {
   "cell_type": "code",
   "execution_count": null,
   "metadata": {},
   "outputs": [],
   "source": [
    "model = Sequential()\n",
    "\n",
    "model.add(Conv3D(32, (3, 3, 3), padding='same', input_shape=(num_images, image_height, image_width, 3),activation='relu'))\n",
    "model.add(MaxPooling3D(pool_size=(2, 2, 2)))\n",
    "model.add(Dropout(0.3))\n",
    "\n",
    "model.add(Conv3D(64, (3, 3, 3), padding='same',activation='relu'))\n",
    "model.add(MaxPooling3D(pool_size=(2, 2, 2)))\n",
    "model.add(Dropout(0.3))\n",
    "    \n",
    "model.add(Conv3D(128, (3, 3, 3), padding='same',activation='relu'))\n",
    "model.add(MaxPooling3D(pool_size=(2, 2, 2))) \n",
    "model.add(Dropout(0.3))\n",
    "    \n",
    "model.add(GlobalAveragePooling3D())\n",
    "model.add(Dense(256,activation='relu'))\n",
    "model.add(Dropout(0.25))\n",
    "\n",
    "model.add(Dense(5,activation='softmax'))"
   ]
  },
  {
   "cell_type": "code",
   "execution_count": 62,
   "metadata": {},
   "outputs": [],
   "source": [
    "model.build((num_images, image_height, image_width, 3))"
   ]
  },
  {
   "cell_type": "code",
   "execution_count": 63,
   "metadata": {
    "scrolled": true
   },
   "outputs": [
    {
     "name": "stdout",
     "output_type": "stream",
     "text": [
      "Model: \"sequential_8\"\n",
      "_________________________________________________________________\n",
      " Layer (type)                Output Shape              Param #   \n",
      "=================================================================\n",
      " conv3d_3 (Conv3D)           (None, 20, 120, 120, 32)  2624      \n",
      "                                                                 \n",
      " max_pooling3d_3 (MaxPooling  (None, 10, 60, 60, 32)   0         \n",
      " 3D)                                                             \n",
      "                                                                 \n",
      " dropout_4 (Dropout)         (None, 10, 60, 60, 32)    0         \n",
      "                                                                 \n",
      " conv3d_4 (Conv3D)           (None, 10, 60, 60, 64)    55360     \n",
      "                                                                 \n",
      " max_pooling3d_4 (MaxPooling  (None, 5, 30, 30, 64)    0         \n",
      " 3D)                                                             \n",
      "                                                                 \n",
      " dropout_5 (Dropout)         (None, 5, 30, 30, 64)     0         \n",
      "                                                                 \n",
      " conv3d_5 (Conv3D)           (None, 5, 30, 30, 128)    221312    \n",
      "                                                                 \n",
      " max_pooling3d_5 (MaxPooling  (None, 2, 15, 15, 128)   0         \n",
      " 3D)                                                             \n",
      "                                                                 \n",
      " dropout_6 (Dropout)         (None, 2, 15, 15, 128)    0         \n",
      "                                                                 \n",
      " global_average_pooling3d_2   (None, 128)              0         \n",
      " (GlobalAveragePooling3D)                                        \n",
      "                                                                 \n",
      " dense_15 (Dense)            (None, 256)               33024     \n",
      "                                                                 \n",
      " dropout_7 (Dropout)         (None, 256)               0         \n",
      "                                                                 \n",
      " dense_16 (Dense)            (None, 5)                 1285      \n",
      "                                                                 \n",
      "=================================================================\n",
      "Total params: 313,605\n",
      "Trainable params: 313,605\n",
      "Non-trainable params: 0\n",
      "_________________________________________________________________\n",
      "None\n"
     ]
    }
   ],
   "source": [
    "# https://keras.io/api/callbacks/reduce_lr_on_plateau/\n",
    "optimiser = 'adam'\n",
    "model.compile(optimizer=optimiser, loss='categorical_crossentropy', metrics=['categorical_accuracy'])\n",
    "print (model.summary())"
   ]
  },
  {
   "cell_type": "markdown",
   "metadata": {},
   "source": [
    "Let us create the `train_generator` and the `val_generator` which will be used in `.fit_generator`."
   ]
  },
  {
   "cell_type": "code",
   "execution_count": 64,
   "metadata": {},
   "outputs": [],
   "source": [
    "# input parameters to generator function source_path, folder_list, batch_size, num_images,image_height,image_width\n",
    "train_generator = generator(train_path, train_doc, batch_size,num_images,image_height,image_width)\n",
    "val_generator = generator(val_path, val_doc, batch_size, num_images,image_height,image_width)"
   ]
  },
  {
   "cell_type": "code",
   "execution_count": 65,
   "metadata": {},
   "outputs": [],
   "source": [
    "model_name = 'model_experiment' + '_' + str(curr_dt_time).replace(' ','').replace(':','_') + '/'\n",
    "    \n",
    "if not os.path.exists(model_name):\n",
    "    os.mkdir(model_name)\n",
    "        \n",
    "filepath = model_name + 'model-{epoch:05d}-{loss:.5f}-{categorical_accuracy:.5f}.h5'\n",
    "\n",
    "checkpoint = ModelCheckpoint(filepath, monitor='val_loss', verbose=1, save_best_only=True, save_weights_only=False, mode='auto')\n",
    "\n",
    "\n",
    "# write the REducelronplateau code here\n",
    "LR  = ReduceLROnPlateau(monitor='categorical_accuracy', patience=4,verbose=1,factor=0.2, min_lr=1e-7,mode='auto')\n",
    "callbacks_list = [checkpoint, LR]"
   ]
  },
  {
   "cell_type": "markdown",
   "metadata": {},
   "source": [
    "The `steps_per_epoch` and `validation_steps` are used by `fit` method to decide the number of next() calls it need to make."
   ]
  },
  {
   "cell_type": "code",
   "execution_count": 66,
   "metadata": {},
   "outputs": [],
   "source": [
    "# First making the value of num_train_sequences = 200 and num_val_sequences = 100\n",
    "#batch_size = 32 #experiment with the batch size\n",
    "\n",
    "if (num_train_sequences%batch_size) == 0:\n",
    "    steps_per_epoch = int(num_train_sequences/batch_size)\n",
    "else:\n",
    "    steps_per_epoch = (num_train_sequences//batch_size) + 1\n",
    "\n",
    "if (num_val_sequences%batch_size) == 0:\n",
    "    validation_steps = int(num_val_sequences/batch_size)\n",
    "else:\n",
    "    validation_steps = (num_val_sequences//batch_size) + 1"
   ]
  },
  {
   "cell_type": "markdown",
   "metadata": {},
   "source": [
    "Let us now fit the model. This will start training the model and with the help of the checkpoints, you'll be able to save the model at the end of each epoch."
   ]
  },
  {
   "cell_type": "code",
   "execution_count": 67,
   "metadata": {},
   "outputs": [
    {
     "name": "stdout",
     "output_type": "stream",
     "text": [
      "Source path =  /home/datasets/Project_data/train ; batch size = 32\n",
      "Epoch 1/40\n",
      "21/21 [==============================] - ETA: 0s - loss: 1.6172 - categorical_accuracy: 0.1900Source path =  /home/datasets/Project_data/val ; batch size = 32\n",
      "\n",
      "Epoch 00001: val_loss improved from inf to 1.60723, saving model to model_experiment_2023-08-0310_59_36.842582/model-00001-1.61722-0.19005.h5\n",
      "21/21 [==============================] - 136s 7s/step - loss: 1.6172 - categorical_accuracy: 0.1900 - val_loss: 1.6072 - val_categorical_accuracy: 0.2100 - lr: 0.0010\n",
      "Epoch 2/40\n",
      "21/21 [==============================] - ETA: 0s - loss: 1.6051 - categorical_accuracy: 0.2353\n",
      "Epoch 00002: val_loss improved from 1.60723 to 1.59323, saving model to model_experiment_2023-08-0310_59_36.842582/model-00002-1.60514-0.23529.h5\n",
      "21/21 [==============================] - 132s 7s/step - loss: 1.6051 - categorical_accuracy: 0.2353 - val_loss: 1.5932 - val_categorical_accuracy: 0.2200 - lr: 0.0010\n",
      "Epoch 3/40\n",
      "21/21 [==============================] - ETA: 0s - loss: 1.5898 - categorical_accuracy: 0.2142\n",
      "Epoch 00003: val_loss improved from 1.59323 to 1.55414, saving model to model_experiment_2023-08-0310_59_36.842582/model-00003-1.58981-0.21418.h5\n",
      "21/21 [==============================] - 132s 7s/step - loss: 1.5898 - categorical_accuracy: 0.2142 - val_loss: 1.5541 - val_categorical_accuracy: 0.2300 - lr: 0.0010\n",
      "Epoch 4/40\n",
      "21/21 [==============================] - ETA: 0s - loss: 1.5585 - categorical_accuracy: 0.2443\n",
      "Epoch 00004: val_loss improved from 1.55414 to 1.51604, saving model to model_experiment_2023-08-0310_59_36.842582/model-00004-1.55853-0.24434.h5\n",
      "21/21 [==============================] - 127s 6s/step - loss: 1.5585 - categorical_accuracy: 0.2443 - val_loss: 1.5160 - val_categorical_accuracy: 0.3300 - lr: 0.0010\n",
      "Epoch 5/40\n",
      "21/21 [==============================] - ETA: 0s - loss: 1.5315 - categorical_accuracy: 0.2851\n",
      "Epoch 00005: val_loss improved from 1.51604 to 1.49554, saving model to model_experiment_2023-08-0310_59_36.842582/model-00005-1.53152-0.28507.h5\n",
      "21/21 [==============================] - 132s 7s/step - loss: 1.5315 - categorical_accuracy: 0.2851 - val_loss: 1.4955 - val_categorical_accuracy: 0.4000 - lr: 0.0010\n",
      "Epoch 6/40\n",
      "21/21 [==============================] - ETA: 0s - loss: 1.4594 - categorical_accuracy: 0.3469\n",
      "Epoch 00006: val_loss improved from 1.49554 to 1.34754, saving model to model_experiment_2023-08-0310_59_36.842582/model-00006-1.45942-0.34691.h5\n",
      "21/21 [==============================] - 133s 7s/step - loss: 1.4594 - categorical_accuracy: 0.3469 - val_loss: 1.3475 - val_categorical_accuracy: 0.4600 - lr: 0.0010\n",
      "Epoch 7/40\n",
      "21/21 [==============================] - ETA: 0s - loss: 1.3009 - categorical_accuracy: 0.4299\n",
      "Epoch 00007: val_loss improved from 1.34754 to 1.25305, saving model to model_experiment_2023-08-0310_59_36.842582/model-00007-1.30091-0.42986.h5\n",
      "21/21 [==============================] - 132s 7s/step - loss: 1.3009 - categorical_accuracy: 0.4299 - val_loss: 1.2530 - val_categorical_accuracy: 0.4900 - lr: 0.0010\n",
      "Epoch 8/40\n",
      "21/21 [==============================] - ETA: 0s - loss: 1.2296 - categorical_accuracy: 0.4525\n",
      "Epoch 00008: val_loss improved from 1.25305 to 1.06670, saving model to model_experiment_2023-08-0310_59_36.842582/model-00008-1.22959-0.45249.h5\n",
      "21/21 [==============================] - 126s 6s/step - loss: 1.2296 - categorical_accuracy: 0.4525 - val_loss: 1.0667 - val_categorical_accuracy: 0.6100 - lr: 0.0010\n",
      "Epoch 9/40\n",
      "21/21 [==============================] - ETA: 0s - loss: 1.0943 - categorical_accuracy: 0.5475\n",
      "Epoch 00009: val_loss improved from 1.06670 to 0.92656, saving model to model_experiment_2023-08-0310_59_36.842582/model-00009-1.09426-0.54751.h5\n",
      "21/21 [==============================] - 133s 7s/step - loss: 1.0943 - categorical_accuracy: 0.5475 - val_loss: 0.9266 - val_categorical_accuracy: 0.6400 - lr: 0.0010\n",
      "Epoch 10/40\n",
      "21/21 [==============================] - ETA: 0s - loss: 1.0537 - categorical_accuracy: 0.5385\n",
      "Epoch 00010: val_loss did not improve from 0.92656\n",
      "21/21 [==============================] - 132s 7s/step - loss: 1.0537 - categorical_accuracy: 0.5385 - val_loss: 1.0100 - val_categorical_accuracy: 0.5300 - lr: 0.0010\n",
      "Epoch 11/40\n",
      "21/21 [==============================] - ETA: 0s - loss: 1.0197 - categorical_accuracy: 0.5430\n",
      "Epoch 00011: val_loss did not improve from 0.92656\n",
      "21/21 [==============================] - 133s 7s/step - loss: 1.0197 - categorical_accuracy: 0.5430 - val_loss: 1.1222 - val_categorical_accuracy: 0.5200 - lr: 0.0010\n",
      "Epoch 12/40\n",
      "21/21 [==============================] - ETA: 0s - loss: 0.9747 - categorical_accuracy: 0.6003\n",
      "Epoch 00012: val_loss did not improve from 0.92656\n",
      "21/21 [==============================] - 127s 6s/step - loss: 0.9747 - categorical_accuracy: 0.6003 - val_loss: 0.9536 - val_categorical_accuracy: 0.6500 - lr: 0.0010\n",
      "Epoch 13/40\n",
      "21/21 [==============================] - ETA: 0s - loss: 0.8681 - categorical_accuracy: 0.6305\n",
      "Epoch 00013: val_loss improved from 0.92656 to 0.90475, saving model to model_experiment_2023-08-0310_59_36.842582/model-00013-0.86809-0.63047.h5\n",
      "21/21 [==============================] - 134s 7s/step - loss: 0.8681 - categorical_accuracy: 0.6305 - val_loss: 0.9047 - val_categorical_accuracy: 0.6300 - lr: 0.0010\n",
      "Epoch 14/40\n",
      "21/21 [==============================] - ETA: 0s - loss: 0.8558 - categorical_accuracy: 0.6350\n",
      "Epoch 00014: val_loss improved from 0.90475 to 0.78892, saving model to model_experiment_2023-08-0310_59_36.842582/model-00014-0.85580-0.63499.h5\n",
      "21/21 [==============================] - 131s 7s/step - loss: 0.8558 - categorical_accuracy: 0.6350 - val_loss: 0.7889 - val_categorical_accuracy: 0.6600 - lr: 0.0010\n",
      "Epoch 15/40\n",
      "21/21 [==============================] - ETA: 0s - loss: 0.8195 - categorical_accuracy: 0.6516\n",
      "Epoch 00015: val_loss did not improve from 0.78892\n",
      "21/21 [==============================] - 133s 7s/step - loss: 0.8195 - categorical_accuracy: 0.6516 - val_loss: 1.1501 - val_categorical_accuracy: 0.5200 - lr: 0.0010\n",
      "Epoch 16/40\n",
      "21/21 [==============================] - ETA: 0s - loss: 0.8322 - categorical_accuracy: 0.6259\n",
      "Epoch 00016: val_loss improved from 0.78892 to 0.64913, saving model to model_experiment_2023-08-0310_59_36.842582/model-00016-0.83221-0.62594.h5\n",
      "21/21 [==============================] - 127s 6s/step - loss: 0.8322 - categorical_accuracy: 0.6259 - val_loss: 0.6491 - val_categorical_accuracy: 0.7900 - lr: 0.0010\n",
      "Epoch 17/40\n",
      "21/21 [==============================] - ETA: 0s - loss: 0.6954 - categorical_accuracy: 0.7164\n",
      "Epoch 00017: val_loss did not improve from 0.64913\n",
      "21/21 [==============================] - 134s 7s/step - loss: 0.6954 - categorical_accuracy: 0.7164 - val_loss: 0.8476 - val_categorical_accuracy: 0.6700 - lr: 0.0010\n",
      "Epoch 18/40\n",
      "21/21 [==============================] - ETA: 0s - loss: 0.6785 - categorical_accuracy: 0.7330\n",
      "Epoch 00018: val_loss did not improve from 0.64913\n",
      "21/21 [==============================] - 135s 7s/step - loss: 0.6785 - categorical_accuracy: 0.7330 - val_loss: 0.6754 - val_categorical_accuracy: 0.7600 - lr: 0.0010\n",
      "Epoch 19/40\n",
      "21/21 [==============================] - ETA: 0s - loss: 0.6308 - categorical_accuracy: 0.7240\n",
      "Epoch 00019: val_loss did not improve from 0.64913\n",
      "21/21 [==============================] - 133s 7s/step - loss: 0.6308 - categorical_accuracy: 0.7240 - val_loss: 0.7333 - val_categorical_accuracy: 0.7300 - lr: 0.0010\n",
      "Epoch 20/40\n",
      "21/21 [==============================] - ETA: 0s - loss: 0.6307 - categorical_accuracy: 0.7526\n",
      "Epoch 00020: val_loss improved from 0.64913 to 0.48294, saving model to model_experiment_2023-08-0310_59_36.842582/model-00020-0.63067-0.75264.h5\n",
      "21/21 [==============================] - 128s 6s/step - loss: 0.6307 - categorical_accuracy: 0.7526 - val_loss: 0.4829 - val_categorical_accuracy: 0.8500 - lr: 0.0010\n",
      "Epoch 21/40\n",
      "21/21 [==============================] - ETA: 0s - loss: 0.6256 - categorical_accuracy: 0.7270\n",
      "Epoch 00021: val_loss did not improve from 0.48294\n",
      "21/21 [==============================] - 134s 7s/step - loss: 0.6256 - categorical_accuracy: 0.7270 - val_loss: 0.6501 - val_categorical_accuracy: 0.7800 - lr: 0.0010\n",
      "Epoch 22/40\n",
      "21/21 [==============================] - ETA: 0s - loss: 0.5865 - categorical_accuracy: 0.7526\n",
      "Epoch 00022: val_loss did not improve from 0.48294\n",
      "21/21 [==============================] - 133s 7s/step - loss: 0.5865 - categorical_accuracy: 0.7526 - val_loss: 0.5531 - val_categorical_accuracy: 0.8700 - lr: 0.0010\n",
      "Epoch 23/40\n",
      "21/21 [==============================] - ETA: 0s - loss: 0.5527 - categorical_accuracy: 0.7511\n",
      "Epoch 00023: val_loss did not improve from 0.48294\n",
      "21/21 [==============================] - 135s 7s/step - loss: 0.5527 - categorical_accuracy: 0.7511 - val_loss: 0.5594 - val_categorical_accuracy: 0.8100 - lr: 0.0010\n",
      "Epoch 24/40\n",
      "21/21 [==============================] - ETA: 0s - loss: 0.5333 - categorical_accuracy: 0.7662\n",
      "Epoch 00024: val_loss did not improve from 0.48294\n",
      "21/21 [==============================] - 131s 7s/step - loss: 0.5333 - categorical_accuracy: 0.7662 - val_loss: 0.5614 - val_categorical_accuracy: 0.8200 - lr: 0.0010\n",
      "Epoch 25/40\n",
      "21/21 [==============================] - ETA: 0s - loss: 0.4507 - categorical_accuracy: 0.8130\n",
      "Epoch 00025: val_loss did not improve from 0.48294\n",
      "21/21 [==============================] - 133s 7s/step - loss: 0.4507 - categorical_accuracy: 0.8130 - val_loss: 0.5535 - val_categorical_accuracy: 0.8400 - lr: 0.0010\n",
      "Epoch 26/40\n",
      "21/21 [==============================] - ETA: 0s - loss: 0.4429 - categorical_accuracy: 0.8250\n",
      "Epoch 00026: val_loss improved from 0.48294 to 0.48037, saving model to model_experiment_2023-08-0310_59_36.842582/model-00026-0.44295-0.82504.h5\n",
      "21/21 [==============================] - 132s 7s/step - loss: 0.4429 - categorical_accuracy: 0.8250 - val_loss: 0.4804 - val_categorical_accuracy: 0.9100 - lr: 0.0010\n",
      "Epoch 27/40\n",
      "21/21 [==============================] - ETA: 0s - loss: 0.4637 - categorical_accuracy: 0.7903\n",
      "Epoch 00027: val_loss improved from 0.48037 to 0.44565, saving model to model_experiment_2023-08-0310_59_36.842582/model-00027-0.46375-0.79035.h5\n",
      "21/21 [==============================] - 132s 7s/step - loss: 0.4637 - categorical_accuracy: 0.7903 - val_loss: 0.4456 - val_categorical_accuracy: 0.8800 - lr: 0.0010\n",
      "Epoch 28/40\n",
      "21/21 [==============================] - ETA: 0s - loss: 0.4147 - categorical_accuracy: 0.8401\n",
      "Epoch 00028: val_loss improved from 0.44565 to 0.44106, saving model to model_experiment_2023-08-0310_59_36.842582/model-00028-0.41474-0.84012.h5\n",
      "21/21 [==============================] - 126s 6s/step - loss: 0.4147 - categorical_accuracy: 0.8401 - val_loss: 0.4411 - val_categorical_accuracy: 0.8900 - lr: 0.0010\n",
      "Epoch 29/40\n",
      "21/21 [==============================] - ETA: 0s - loss: 0.3567 - categorical_accuracy: 0.8597\n",
      "Epoch 00029: val_loss did not improve from 0.44106\n",
      "21/21 [==============================] - 132s 7s/step - loss: 0.3567 - categorical_accuracy: 0.8597 - val_loss: 0.5590 - val_categorical_accuracy: 0.8700 - lr: 0.0010\n",
      "Epoch 30/40\n",
      "21/21 [==============================] - ETA: 0s - loss: 0.3130 - categorical_accuracy: 0.8884\n",
      "Epoch 00030: val_loss improved from 0.44106 to 0.38509, saving model to model_experiment_2023-08-0310_59_36.842582/model-00030-0.31303-0.88839.h5\n",
      "21/21 [==============================] - 132s 7s/step - loss: 0.3130 - categorical_accuracy: 0.8884 - val_loss: 0.3851 - val_categorical_accuracy: 0.8800 - lr: 0.0010\n",
      "Epoch 31/40\n",
      "21/21 [==============================] - ETA: 0s - loss: 0.3344 - categorical_accuracy: 0.8748\n",
      "Epoch 00031: val_loss did not improve from 0.38509\n",
      "21/21 [==============================] - 132s 7s/step - loss: 0.3344 - categorical_accuracy: 0.8748 - val_loss: 0.4160 - val_categorical_accuracy: 0.8000 - lr: 0.0010\n",
      "Epoch 32/40\n",
      "21/21 [==============================] - ETA: 0s - loss: 0.3682 - categorical_accuracy: 0.8582\n",
      "Epoch 00032: val_loss did not improve from 0.38509\n",
      "21/21 [==============================] - 128s 6s/step - loss: 0.3682 - categorical_accuracy: 0.8582 - val_loss: 0.6236 - val_categorical_accuracy: 0.8100 - lr: 0.0010\n",
      "Epoch 33/40\n",
      "21/21 [==============================] - ETA: 0s - loss: 0.4025 - categorical_accuracy: 0.8477\n",
      "Epoch 00033: val_loss did not improve from 0.38509\n",
      "21/21 [==============================] - 133s 7s/step - loss: 0.4025 - categorical_accuracy: 0.8477 - val_loss: 0.4046 - val_categorical_accuracy: 0.8500 - lr: 0.0010\n",
      "Epoch 34/40\n",
      "21/21 [==============================] - ETA: 0s - loss: 0.3681 - categorical_accuracy: 0.8401\n",
      "Epoch 00034: val_loss did not improve from 0.38509\n",
      "\n",
      "Epoch 00034: ReduceLROnPlateau reducing learning rate to 0.00020000000949949026.\n",
      "21/21 [==============================] - 135s 7s/step - loss: 0.3681 - categorical_accuracy: 0.8401 - val_loss: 0.4883 - val_categorical_accuracy: 0.8200 - lr: 0.0010\n",
      "Epoch 35/40\n",
      "21/21 [==============================] - ETA: 0s - loss: 0.2919 - categorical_accuracy: 0.8974\n",
      "Epoch 00035: val_loss did not improve from 0.38509\n",
      "21/21 [==============================] - 133s 7s/step - loss: 0.2919 - categorical_accuracy: 0.8974 - val_loss: 0.3928 - val_categorical_accuracy: 0.8900 - lr: 2.0000e-04\n",
      "Epoch 36/40\n",
      "21/21 [==============================] - ETA: 0s - loss: 0.2762 - categorical_accuracy: 0.8959\n",
      "Epoch 00036: val_loss did not improve from 0.38509\n",
      "21/21 [==============================] - 128s 6s/step - loss: 0.2762 - categorical_accuracy: 0.8959 - val_loss: 0.3912 - val_categorical_accuracy: 0.8700 - lr: 2.0000e-04\n",
      "Epoch 37/40\n",
      "21/21 [==============================] - ETA: 0s - loss: 0.2581 - categorical_accuracy: 0.9125\n",
      "Epoch 00037: val_loss did not improve from 0.38509\n",
      "21/21 [==============================] - 133s 7s/step - loss: 0.2581 - categorical_accuracy: 0.9125 - val_loss: 0.3882 - val_categorical_accuracy: 0.8700 - lr: 2.0000e-04\n",
      "Epoch 38/40\n",
      "21/21 [==============================] - ETA: 0s - loss: 0.2427 - categorical_accuracy: 0.9125\n",
      "Epoch 00038: val_loss did not improve from 0.38509\n",
      "21/21 [==============================] - 136s 7s/step - loss: 0.2427 - categorical_accuracy: 0.9125 - val_loss: 0.4217 - val_categorical_accuracy: 0.8800 - lr: 2.0000e-04\n",
      "Epoch 39/40\n",
      "21/21 [==============================] - ETA: 0s - loss: 0.2606 - categorical_accuracy: 0.9035\n",
      "Epoch 00039: val_loss improved from 0.38509 to 0.31390, saving model to model_experiment_2023-08-0310_59_36.842582/model-00039-0.26060-0.90347.h5\n",
      "21/21 [==============================] - 153s 8s/step - loss: 0.2606 - categorical_accuracy: 0.9035 - val_loss: 0.3139 - val_categorical_accuracy: 0.8900 - lr: 2.0000e-04\n",
      "Epoch 40/40\n",
      "21/21 [==============================] - ETA: 0s - loss: 0.2334 - categorical_accuracy: 0.9110\n",
      "Epoch 00040: val_loss did not improve from 0.31390\n",
      "21/21 [==============================] - 150s 7s/step - loss: 0.2334 - categorical_accuracy: 0.9110 - val_loss: 0.3521 - val_categorical_accuracy: 0.8800 - lr: 2.0000e-04\n"
     ]
    }
   ],
   "source": [
    "#num_epochs = 40 # choose the number of epochs\n",
    "history = model.fit(train_generator, steps_per_epoch=steps_per_epoch, epochs=num_epochs, verbose=1, \n",
    "                    callbacks=callbacks_list, validation_data=val_generator, \n",
    "                    validation_steps=validation_steps, class_weight=None, workers=1, initial_epoch=0)"
   ]
  },
  {
   "cell_type": "markdown",
   "metadata": {},
   "source": [
    "\n",
    "## Plotting\n",
    "\n",
    "Plotting the graphs:\n",
    "1. Training vs Validation accuracy\n",
    "2. Training vs Categorical loss."
   ]
  },
  {
   "cell_type": "code",
   "execution_count": 88,
   "metadata": {},
   "outputs": [
    {
     "data": {
      "image/png": "[encoded data removed]",
      "text/plain": [
       "<Figure size 576x576 with 2 Axes>"
      ]
     },
     "metadata": {
      "needs_background": "light"
     },
     "output_type": "display_data"
    }
   ],
   "source": [
    "acc = history.history['categorical_accuracy']\n",
    "val_acc = history.history['val_categorical_accuracy']\n",
    "\n",
    "loss = history.history['loss']\n",
    "val_loss = history.history['val_loss']\n",
    "\n",
    "epochs_range = range(num_epochs)\n",
    "\n",
    "plt.figure(figsize=(8, 8))\n",
    "plt.subplot(1, 2, 1)\n",
    "plt.plot(epochs_range, acc, label='Categorical Training Accuracy')\n",
    "plt.plot(epochs_range, val_acc, label='Categorical Validation Accuracy')\n",
    "plt.legend(loc='lower right')\n",
    "plt.title('Training and Validation Accuracy')\n",
    "\n",
    "plt.subplot(1, 2, 2)\n",
    "plt.plot(epochs_range, loss, label='Categorical Training Loss')\n",
    "plt.plot(epochs_range, val_loss, label='Categorical Validation Loss')\n",
    "plt.legend(loc='upper right')\n",
    "plt.title('categorical Training and Validation Loss')\n",
    "plt.show()"
   ]
  },
  {
   "cell_type": "markdown",
   "metadata": {},
   "source": [
    "## Result\n",
    "- Training categorical loss = 0.2606\n",
    "- Training categorical accuracy = 0.9035\n",
    "- Validation categorical loss = 0.3139\n",
    "- Validation categorical accuracy: 0.8900\n",
    "\n",
    "The model is not overfitting as both the training and validation accuracy is similar. Also, the model is having less validation loss from all other models. The number of trainable parameters are 313,605\n",
    "\n",
    "Best model I got is when using Conv3D + MaxPooling + Dopout + GlobalAveragePooling3D layers\n"
   ]
  }
 ],
 "metadata": {
  "kernelspec": {
   "display_name": "Python 3 (ipykernel)",
   "language": "python",
   "name": "python3"
  },
  "language_info": {
   "codemirror_mode": {
    "name": "ipython",
    "version": 3
   },
   "file_extension": ".py",
   "mimetype": "text/x-python",
   "name": "python",
   "nbconvert_exporter": "python",
   "pygments_lexer": "ipython3",
   "version": "3.8.10"
  }
 },
 "nbformat": 4,
 "nbformat_minor": 4
}
